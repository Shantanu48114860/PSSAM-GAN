{
 "cells": [
  {
   "cell_type": "code",
   "execution_count": 1,
   "metadata": {},
   "outputs": [],
   "source": [
    "import numpy as np\n",
    "import torch\n",
    "import torch.nn as nn\n",
    "import torch.optim as optim\n",
    "import torch.nn.functional as F\n",
    "from Utils import Utils\n",
    "from Constants import Constants\n",
    "from Propensity_socre_network import Propensity_socre_network\n",
    "from Utils import Utils\n",
    "from PS_Manager import PS_Manager\n",
    "from PS_Treated_Generator import PS_Treated_Generator\n",
    "\n",
    "from GAN import Generator, Discriminator\n",
    "from sklearn.neighbors import NearestNeighbors\n",
    "\n",
    "from GAN_Manager import GAN_Manager\n",
    "from Utils import Utils\n",
    "\n",
    "from matplotlib import pyplot\n",
    "from torch.autograd.variable import Variable\n",
    "from collections import OrderedDict\n",
    "from scipy.special import expit\n",
    "\n",
    "import os\n",
    "from os.path import join\n",
    "import sys\n",
    "from dataloader import DataLoader"
   ]
  },
  {
   "cell_type": "code",
   "execution_count": 2,
   "metadata": {},
   "outputs": [],
   "source": [
    "def __get_ps_model(ps_model_type, iter_id,\n",
    "                   input_nodes, device,\n",
    "                   np_covariates_X_train, \n",
    "                   np_covariates_X_test, \n",
    "                   np_covariates_Y_train,\n",
    "                   np_covariates_Y_test, dL):\n",
    "    ps_train_set = dL.convert_to_tensor(np_covariates_X_train, np_covariates_Y_train)\n",
    "    ps_test_set = dL.convert_to_tensor(np_covariates_X_test,\n",
    "                                            np_covariates_Y_test)\n",
    "    ps_manager = PS_Manager()\n",
    "    if ps_model_type == Constants.PS_MODEL_NN:\n",
    "        return ps_manager.get_propensity_scores(ps_train_set,\n",
    "                                                    ps_test_set, iter_id,\n",
    "                                                    input_nodes, device)"
   ]
  },
  {
   "cell_type": "code",
   "execution_count": 3,
   "metadata": {},
   "outputs": [],
   "source": [
    "iter_id = 1"
   ]
  },
  {
   "cell_type": "code",
   "execution_count": 4,
   "metadata": {},
   "outputs": [
    {
     "data": {
      "text/plain": [
       "150"
      ]
     },
     "execution_count": 4,
     "metadata": {},
     "output_type": "execute_result"
    }
   ],
   "source": [
    "input_nodes = 17\n",
    "device = Utils.get_device()\n",
    "ps_model_type=Constants.PS_MODEL_NN\n",
    "train_path = \"Dataset/jobs_DW_bin.new.10.train.npz\"\n",
    "test_path = \"Dataset/jobs_DW_bin.new.10.test.npz\"\n",
    "split_size = 0.8\n",
    "dL = DataLoader()\n",
    "\n",
    "Constants.PROP_SCORE_NN_EPOCHS"
   ]
  },
  {
   "cell_type": "code",
   "execution_count": 5,
   "metadata": {},
   "outputs": [
    {
     "name": "stdout",
     "output_type": "stream",
     "text": [
      "Numpy Train Statistics:\n",
      "(2570, 19)\n",
      "(2570, 1)\n",
      " Numpy Test Statistics:\n",
      "(642, 19)\n",
      "(642, 1)\n"
     ]
    }
   ],
   "source": [
    "np_covariates_X_train, np_covariates_X_test, np_covariates_T_train, \\\n",
    "        np_covariates_T_test \\\n",
    "            = dL.load_train_test_jobs(train_path, test_path, iter_id)"
   ]
  },
  {
   "cell_type": "code",
   "execution_count": 7,
   "metadata": {},
   "outputs": [
    {
     "name": "stdout",
     "output_type": "stream",
     "text": [
      "############### Propensity Score neural net Training ###############\n",
      ".. PS Training started ..\n",
      "Epoch: 50, loss: 14.95476146042347, correct: 2339/2570, accuracy: 0.9101167315175097\n",
      "Epoch: 100, loss: 13.695720925927162, correct: 2365/2570, accuracy: 0.9202334630350194\n",
      "Epoch: 150, loss: 12.977693915367126, correct: 2367/2570, accuracy: 0.9210116731517509\n",
      "Training Completed..\n"
     ]
    }
   ],
   "source": [
    "ps_score_list_train, ps_score_list_test, ps_model = __get_ps_model(ps_model_type, \n",
    "                                                                   1, input_nodes,\n",
    "                                                                device, \n",
    "                                                                np_covariates_X_train, \n",
    "                                                                np_covariates_X_test, \n",
    "                                                                np_covariates_T_train,\n",
    "                                                                np_covariates_T_test,\n",
    "                                                                dL)\n"
   ]
  },
  {
   "cell_type": "code",
   "execution_count": 8,
   "metadata": {},
   "outputs": [
    {
     "name": "stdout",
     "output_type": "stream",
     "text": [
      "2570\n",
      "642\n"
     ]
    }
   ],
   "source": [
    "print(len(ps_score_list_train))\n",
    "print(len(ps_score_list_test))"
   ]
  },
  {
   "cell_type": "code",
   "execution_count": 9,
   "metadata": {},
   "outputs": [
    {
     "name": "stdout",
     "output_type": "stream",
     "text": [
      "--->>Train size: \n",
      "Big X: (2570, 21)\n",
      " Treated Statistics ==>\n",
      "(237, 21)\n",
      " Control Statistics ==>\n",
      "(2333, 21)\n",
      "--->>Test size: \n",
      "Big X: (642, 21)\n",
      " Treated Statistics ==>\n",
      "(60, 21)\n",
      " Control Statistics ==>\n",
      "(582, 21)\n"
     ]
    }
   ],
   "source": [
    "print(\"--->>Train size: \")\n",
    "data_loader_dict_train = dL.prepare_tensor_for_DCN(np_covariates_X_train,\n",
    "                                                        np_covariates_T_train,\n",
    "                                                        ps_score_list_train,\n",
    "                                                        False)\n",
    "print(\"--->>Test size: \")\n",
    "data_loader_dict_test = dL.prepare_tensor_for_DCN(np_covariates_X_test,\n",
    "                                                      np_covariates_T_test,\n",
    "                                                      ps_score_list_test,\n",
    "                                                      False)\n",
    "tensor_treated_train_original = \\\n",
    "                Utils.create_tensors_from_tuple(data_loader_dict_train[\"treated_data\"])\n",
    "tensor_control_train_original = \\\n",
    "                Utils.create_tensors_from_tuple(data_loader_dict_test[\"control_data\"])"
   ]
  },
  {
   "cell_type": "code",
   "execution_count": null,
   "metadata": {},
   "outputs": [],
   "source": [
    "tensor_treated_train_original = \\\n",
    "                Utils.create_tensors_from_tuple(data_loader_dict_train[\"treated_data\"])\n",
    "tensor_control_train_original = \\\n",
    "                Utils.create_tensors_from_tuple(data_loader_dict_test[\"control_data\"])"
   ]
  },
  {
   "cell_type": "code",
   "execution_count": null,
   "metadata": {},
   "outputs": [],
   "source": []
  }
 ],
 "metadata": {
  "kernelspec": {
   "display_name": "Python 3",
   "language": "python",
   "name": "python3"
  },
  "language_info": {
   "codemirror_mode": {
    "name": "ipython",
    "version": 3
   },
   "file_extension": ".py",
   "mimetype": "text/x-python",
   "name": "python",
   "nbconvert_exporter": "python",
   "pygments_lexer": "ipython3",
   "version": "3.7.3"
  }
 },
 "nbformat": 4,
 "nbformat_minor": 2
}

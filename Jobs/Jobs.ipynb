{
 "cells": [
  {
   "cell_type": "code",
   "execution_count": 1,
   "metadata": {},
   "outputs": [],
   "source": [
    "import numpy as np\n",
    "import torch\n",
    "import torch.nn as nn\n",
    "import torch.optim as optim\n",
    "import torch.nn.functional as F\n",
    "from Utils import Utils\n",
    "from Constants import Constants\n",
    "from Propensity_socre_network import Propensity_socre_network\n",
    "from Utils import Utils\n",
    "from PS_Manager import PS_Manager\n",
    "from PS_Treated_Generator import PS_Treated_Generator\n",
    "\n",
    "from GAN import Generator, Discriminator\n",
    "from sklearn.neighbors import NearestNeighbors\n",
    "\n",
    "from GAN_Manager import GAN_Manager\n",
    "from Utils import Utils\n",
    "\n",
    "from matplotlib import pyplot\n",
    "from torch.autograd.variable import Variable\n",
    "from collections import OrderedDict\n",
    "from scipy.special import expit\n",
    "\n",
    "import os\n",
    "from os.path import join\n",
    "import sys\n",
    "from dataloader import DataLoader\n",
    "from DCN_Experiments import DCN_Experiments\n",
    "from Metrics import Metrics"
   ]
  },
  {
   "cell_type": "code",
   "execution_count": 2,
   "metadata": {},
   "outputs": [],
   "source": [
    "def __get_ps_model(ps_model_type, iter_id,\n",
    "                   input_nodes, device,\n",
    "                   np_covariates_X_train, \n",
    "                   np_covariates_X_test, \n",
    "                   np_covariates_Y_train,\n",
    "                   np_covariates_Y_test, dL):\n",
    "    ps_train_set = dL.convert_to_tensor(np_covariates_X_train, np_covariates_Y_train)\n",
    "    ps_test_set = dL.convert_to_tensor(np_covariates_X_test,\n",
    "                                            np_covariates_Y_test)\n",
    "    ps_manager = PS_Manager()\n",
    "    if ps_model_type == Constants.PS_MODEL_NN:\n",
    "        return ps_manager.get_propensity_scores(ps_train_set,\n",
    "                                                    ps_test_set, iter_id,\n",
    "                                                    input_nodes, device)"
   ]
  },
  {
   "cell_type": "code",
   "execution_count": 3,
   "metadata": {},
   "outputs": [],
   "source": [
    "iter_id = 1"
   ]
  },
  {
   "cell_type": "code",
   "execution_count": 4,
   "metadata": {},
   "outputs": [
    {
     "data": {
      "text/plain": [
       "150"
      ]
     },
     "execution_count": 4,
     "metadata": {},
     "output_type": "execute_result"
    }
   ],
   "source": [
    "input_nodes = 17\n",
    "device = Utils.get_device()\n",
    "ps_model_type=Constants.PS_MODEL_NN\n",
    "train_path = \"Dataset/jobs_DW_bin.new.10.train.npz\"\n",
    "test_path = \"Dataset/jobs_DW_bin.new.10.test.npz\"\n",
    "split_size = 0.8\n",
    "dL = DataLoader()\n",
    "\n",
    "Constants.PROP_SCORE_NN_EPOCHS"
   ]
  },
  {
   "cell_type": "code",
   "execution_count": 5,
   "metadata": {},
   "outputs": [
    {
     "name": "stdout",
     "output_type": "stream",
     "text": [
      "Numpy Train Statistics:\n",
      "(2570, 19)\n",
      "(2570, 1)\n",
      " Numpy Test Statistics:\n",
      "(642, 19)\n",
      "(642, 1)\n"
     ]
    }
   ],
   "source": [
    "np_covariates_X_train, np_covariates_X_test, np_covariates_T_train, \\\n",
    "        np_covariates_T_test \\\n",
    "            = dL.load_train_test_jobs(train_path, test_path, iter_id)"
   ]
  },
  {
   "cell_type": "code",
   "execution_count": 6,
   "metadata": {},
   "outputs": [
    {
     "name": "stdout",
     "output_type": "stream",
     "text": [
      "############### Propensity Score neural net Training ###############\n",
      ".. PS Training started ..\n",
      "Epoch: 50, loss: 13.957078225910664, correct: 2347/2570, accuracy: 0.9132295719844358\n",
      "Epoch: 100, loss: 12.979373145848513, correct: 2371/2570, accuracy: 0.9225680933852141\n",
      "Epoch: 150, loss: 12.010436907410622, correct: 2381/2570, accuracy: 0.9264591439688716\n",
      "Training Completed..\n"
     ]
    }
   ],
   "source": [
    "ps_score_list_train, ps_score_list_test, ps_model = __get_ps_model(ps_model_type, \n",
    "                                                                   1, input_nodes,\n",
    "                                                                device, \n",
    "                                                                np_covariates_X_train, \n",
    "                                                                np_covariates_X_test, \n",
    "                                                                np_covariates_T_train,\n",
    "                                                                np_covariates_T_test,\n",
    "                                                                dL)\n"
   ]
  },
  {
   "cell_type": "code",
   "execution_count": 7,
   "metadata": {},
   "outputs": [
    {
     "name": "stdout",
     "output_type": "stream",
     "text": [
      "2570\n",
      "642\n"
     ]
    }
   ],
   "source": [
    "print(len(ps_score_list_train))\n",
    "print(len(ps_score_list_test))"
   ]
  },
  {
   "cell_type": "code",
   "execution_count": 8,
   "metadata": {},
   "outputs": [
    {
     "name": "stdout",
     "output_type": "stream",
     "text": [
      "--->>Train size: \n",
      "Big X: (2570, 21)\n",
      " Treated Statistics ==>\n",
      "(237, 17)\n",
      " Control Statistics ==>\n",
      "(2333, 17)\n",
      "--->>Test size: \n",
      "Big X: (642, 21)\n",
      " Treated Statistics ==>\n",
      "(60, 17)\n",
      " Control Statistics ==>\n",
      "(582, 17)\n",
      "4\n"
     ]
    }
   ],
   "source": [
    "print(\"--->>Train size: \")\n",
    "data_loader_dict_train = dL.prepare_tensor_for_DCN(np_covariates_X_train,\n",
    "                                                        np_covariates_T_train,\n",
    "                                                        ps_score_list_train,\n",
    "                                                        False)\n",
    "print(\"--->>Test size: \")\n",
    "data_loader_dict_test = dL.prepare_tensor_for_DCN(np_covariates_X_test,\n",
    "                                                      np_covariates_T_test,\n",
    "                                                      ps_score_list_test,\n",
    "                                                      False)\n",
    "print(len(data_loader_dict_train[\"treated_data\"]))\n",
    "\n",
    "tensor_treated_train_original = \\\n",
    "                Utils.create_tensors_from_tuple(data_loader_dict_train[\"treated_data\"])\n",
    "tensor_control_train_original = \\\n",
    "                Utils.create_tensors_from_tuple(data_loader_dict_test[\"control_data\"])"
   ]
  },
  {
   "cell_type": "code",
   "execution_count": 9,
   "metadata": {},
   "outputs": [
    {
     "name": "stdout",
     "output_type": "stream",
     "text": [
      "-> Matched Control: (237, 17)\n",
      "-> UnMatched Control: (2205, 17)\n",
      "-> GAN training started\n",
      "Epoch: 1000, D_loss: 32.7128946185112, D_score_real: 23.75793957710266, D_score_Fake: 11.37055292725563, G_loss: 41.03593552112579, Prop_loss: 110.76152908802032\n",
      "Epoch: 2000, D_loss: 30.848858952522278, D_score_real: 24.5241539478302, D_score_Fake: 10.49499523639679, G_loss: 44.557498812675476, Prop_loss: 61.76901459693909\n",
      "Epoch: 3000, D_loss: 32.90187919139862, D_score_real: 23.768618285655975, D_score_Fake: 11.267085611820221, G_loss: 42.22055399417877, Prop_loss: 81.71781003475189\n",
      "Epoch: 4000, D_loss: 31.761606335639954, D_score_real: 24.31711834669113, D_score_Fake: 10.861313104629517, G_loss: 42.7986261844635, Prop_loss: 51.57673639059067\n",
      "Epoch: 5000, D_loss: 31.677600860595703, D_score_real: 24.180280685424805, D_score_Fake: 10.598519057035446, G_loss: 44.0903936624527, Prop_loss: 46.65553414821625\n",
      "Epoch: 6000, D_loss: 30.43159329891205, D_score_real: 24.641621947288513, D_score_Fake: 10.398718237876892, G_loss: 43.89206504821777, Prop_loss: 69.94800078868866\n",
      "Epoch: 7000, D_loss: 30.21762043237686, D_score_real: 24.728329181671143, D_score_Fake: 10.314184844493866, G_loss: 43.90014684200287, Prop_loss: 75.88977825641632\n",
      "Epoch: 8000, D_loss: 29.788300931453705, D_score_real: 24.867778837680817, D_score_Fake: 10.235538631677628, G_loss: 45.05746150016785, Prop_loss: 48.691085517406464\n",
      "Epoch: 9000, D_loss: 30.141035437583923, D_score_real: 24.887092351913452, D_score_Fake: 10.437909990549088, G_loss: 44.29341661930084, Prop_loss: 60.91740506887436\n",
      "Epoch: 10000, D_loss: 29.366766214370728, D_score_real: 25.0127854347229, D_score_Fake: 10.115003615617752, G_loss: 45.700196743011475, Prop_loss: 60.58573669195175\n",
      "-> GAN training completed\n",
      "----------------------------------------\n",
      "----->>> Semi supervised training started for DCN <<<-----\n",
      "epoch: 100, Treated + Control loss: 105.25211579157076\n",
      "epoch: 200, Treated + Control loss: 86.349922121976\n",
      "epoch: 300, Treated + Control loss: 90.07943135950924\n",
      "epoch: 400, Treated + Control loss: 77.63751235601072\n",
      "---> Semi supervised training completed...\n"
     ]
    },
    {
     "data": {
      "text/plain": [
       "<Figure size 432x288 with 0 Axes>"
      ]
     },
     "metadata": {},
     "output_type": "display_data"
    }
   ],
   "source": [
    "ps_t = PS_Treated_Generator(data_loader_dict_train, ps_model)\n",
    "balanced_dataset_dict = ps_t.simulate_treated_semi_supervised(input_nodes, iter_id, device)"
   ]
  },
  {
   "cell_type": "code",
   "execution_count": null,
   "metadata": {},
   "outputs": [
    {
     "name": "stdout",
     "output_type": "stream",
     "text": [
      "----------------------------------------\n",
      "###### Model 1: DCN - PD Supervised Training started ######\n",
      "Train_mode: train_PD\n",
      "epoch: 100, Treated + Control loss: 100.9043382124537\n",
      "epoch: 200, Treated + Control loss: 79.30706841783076\n",
      "epoch: 300, Treated + Control loss: 69.57941165697125\n",
      "epoch: 400, Treated + Control loss: 58.21852614075187\n",
      "----------------------------------------\n",
      "###### Model 2: DCN PM GAN - No dropout - Supervised Training started ######\n",
      "Train_mode: train_with_no_dropout\n",
      "epoch: 100, Treated + Control loss: 378.2583334859115\n",
      "epoch: 200, Treated + Control loss: 276.443437486341\n",
      "epoch: 300, Treated + Control loss: 212.0829366477054\n",
      "epoch: 400, Treated + Control loss: 211.10518839375973\n",
      "###### Model 3: DCN PM GAN - Probability 0.2 - Supervised Training started ######\n",
      "Train_mode: train_constant_dropout_2\n",
      "epoch: 100, Treated + Control loss: 527.9360118243728\n",
      "epoch: 200, Treated + Control loss: 485.9896758321023\n",
      "epoch: 300, Treated + Control loss: 437.57827957144605\n",
      "epoch: 400, Treated + Control loss: 411.1539789093993\n",
      "###### Model 4: DCN PM GAN - Probability 0.5 - Supervised Training started ######\n",
      "Train_mode: train_constant_dropout_5\n"
     ]
    }
   ],
   "source": [
    "tensor_treated_balanced_dcn = balanced_dataset_dict[\"tensor_treated_balanced_dcn\"]\n",
    "tensor_control_balanced_dcn = balanced_dataset_dict[\"tensor_control_balanced_dcn\"]\n",
    "dcn_experiments = DCN_Experiments(input_nodes, device)\n",
    "dcn_pd_models_eval_dict = dcn_experiments.evaluate_DCN_Model(tensor_treated_train_original,\n",
    "                                                                         tensor_control_train_original,\n",
    "                                                                         tensor_treated_balanced_dcn,\n",
    "                                                                         tensor_control_balanced_dcn,\n",
    "                                                                         data_loader_dict_test)"
   ]
  }
 ],
 "metadata": {
  "kernelspec": {
   "display_name": "Python 3",
   "language": "python",
   "name": "python3"
  },
  "language_info": {
   "codemirror_mode": {
    "name": "ipython",
    "version": 3
   },
   "file_extension": ".py",
   "mimetype": "text/x-python",
   "name": "python",
   "nbconvert_exporter": "python",
   "pygments_lexer": "ipython3",
   "version": "3.7.3"
  }
 },
 "nbformat": 4,
 "nbformat_minor": 2
}

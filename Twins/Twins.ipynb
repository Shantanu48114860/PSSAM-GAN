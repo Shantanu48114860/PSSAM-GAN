{
 "cells": [
  {
   "cell_type": "code",
   "execution_count": 1,
   "metadata": {},
   "outputs": [],
   "source": [
    "import numpy as np\n",
    "import torch\n",
    "import torch.nn as nn\n",
    "import torch.optim as optim\n",
    "import torch.nn.functional as F\n",
    "from Utils import Utils\n",
    "from Constants import Constants\n",
    "from Propensity_socre_network import Propensity_socre_network\n",
    "from Utils import Utils\n",
    "from PS_Manager import PS_Manager\n",
    "from PS_Treated_Generator import PS_Treated_Generator\n",
    "\n",
    "from GAN import Generator, Discriminator\n",
    "from sklearn.neighbors import NearestNeighbors\n",
    "\n",
    "from GAN_Manager import GAN_Manager\n",
    "from Utils import Utils\n",
    "\n",
    "from matplotlib import pyplot\n",
    "from torch.autograd.variable import Variable\n",
    "from collections import OrderedDict\n",
    "from dataloader import DataLoader"
   ]
  },
  {
   "cell_type": "code",
   "execution_count": 2,
   "metadata": {},
   "outputs": [],
   "source": [
    "def __get_ps_model(ps_model_type, iter_id,\n",
    "                   input_nodes, device,\n",
    "                   np_covariates_X_train, \n",
    "                   np_covariates_X_test, \n",
    "                   np_covariates_Y_train,\n",
    "                   np_covariates_Y_test, dL):\n",
    "    ps_train_set = dL.convert_to_tensor(np_covariates_X_train, np_covariates_Y_train)\n",
    "    ps_test_set = dL.convert_to_tensor(np_covariates_X_test,\n",
    "                                            np_covariates_Y_test)\n",
    "    ps_manager = PS_Manager()\n",
    "    if ps_model_type == Constants.PS_MODEL_NN:\n",
    "        return ps_manager.get_propensity_scores(ps_train_set,\n",
    "                                                    ps_test_set, iter_id,\n",
    "                                                    input_nodes, device)"
   ]
  },
  {
   "cell_type": "code",
   "execution_count": 11,
   "metadata": {},
   "outputs": [],
   "source": [
    "iter_id = 1"
   ]
  },
  {
   "cell_type": "code",
   "execution_count": 3,
   "metadata": {},
   "outputs": [
    {
     "data": {
      "text/plain": [
       "1000"
      ]
     },
     "execution_count": 3,
     "metadata": {},
     "output_type": "execute_result"
    }
   ],
   "source": [
    "input_nodes = 30\n",
    "device = Utils.get_device()\n",
    "ps_model_type=Constants.PS_MODEL_NN\n",
    "csv_path = \"Dataset/Twin_data.csv\"\n",
    "split_size = 0.8\n",
    "dL = DataLoader()\n",
    "\n",
    "Constants.PROP_SCORE_NN_EPOCHS"
   ]
  },
  {
   "cell_type": "code",
   "execution_count": 4,
   "metadata": {},
   "outputs": [
    {
     "name": "stdout",
     "output_type": "stream",
     "text": [
      "(11400, 30)\n",
      "(11400, 2)\n",
      "(11400, 1)\n",
      "(11400, 1)\n",
      "(11400, 33)\n"
     ]
    }
   ],
   "source": [
    "np_covariates_X_train, np_covariates_X_test, np_covariates_Y_train, \\\n",
    "        np_covariates_Y_test \\\n",
    "            = dL.preprocess_data_from_csv(csv_path, split_size)\n",
    "            # get propensity score for classifier training and testing\n"
   ]
  },
  {
   "cell_type": "code",
   "execution_count": 5,
   "metadata": {},
   "outputs": [
    {
     "name": "stdout",
     "output_type": "stream",
     "text": [
      "############### Propensity Score neural net Training ###############\n",
      ".. PS Training started ..\n",
      "Epoch: 100, loss: 192.15677219629288, correct: 5052/9120, accuracy: 0.5539473684210526\n",
      "Epoch: 200, loss: 186.045654296875, correct: 5291/9120, accuracy: 0.5801535087719298\n",
      "Epoch: 300, loss: 181.5715565085411, correct: 5406/9120, accuracy: 0.5927631578947369\n",
      "Epoch: 400, loss: 179.31907391548157, correct: 5483/9120, accuracy: 0.6012061403508772\n",
      "Epoch: 500, loss: 177.23652535676956, correct: 5561/9120, accuracy: 0.6097587719298245\n",
      "Epoch: 600, loss: 174.92337548732758, correct: 5606/9120, accuracy: 0.6146929824561403\n",
      "Epoch: 700, loss: 175.74198299646378, correct: 5608/9120, accuracy: 0.6149122807017544\n",
      "Epoch: 800, loss: 175.03584891557693, correct: 5669/9120, accuracy: 0.6216008771929824\n",
      "Epoch: 900, loss: 172.75191229581833, correct: 5635/9120, accuracy: 0.6178728070175439\n",
      "Epoch: 1000, loss: 172.39621379971504, correct: 5615/9120, accuracy: 0.6156798245614035\n",
      "Training Completed..\n"
     ]
    }
   ],
   "source": [
    "ps_score_list_train, ps_score_list_test, ps_model = __get_ps_model(ps_model_type, \n",
    "                                                                   1, input_nodes,\n",
    "                                                                device, \n",
    "                                                                np_covariates_X_train, \n",
    "                                                                np_covariates_X_test, \n",
    "                                                                np_covariates_Y_train,\n",
    "                                                                np_covariates_Y_test, dL)\n"
   ]
  },
  {
   "cell_type": "code",
   "execution_count": 9,
   "metadata": {},
   "outputs": [
    {
     "name": "stdout",
     "output_type": "stream",
     "text": [
      "Train size: \n",
      "Big X: (9120, 35)\n",
      " Treated Statistics ==>\n",
      "(4578, 30)\n",
      " Control Statistics ==>\n",
      "(4542, 30)\n",
      "Test size: \n",
      "Big X: (2280, 35)\n",
      " Treated Statistics ==>\n",
      "(1183, 30)\n",
      " Control Statistics ==>\n",
      "(1097, 30)\n"
     ]
    }
   ],
   "source": [
    "print(\"Train size: \")\n",
    "data_loader_dict_train = dL.prepare_tensor_for_DCN(np_covariates_X_train,\n",
    "                                                                    np_covariates_Y_train,\n",
    "                                                                    ps_score_list_train,\n",
    "                                                                    False)\n",
    "print(\"Test size: \")\n",
    "data_loader_dict_test = dL.prepare_tensor_for_DCN(np_covariates_X_test,\n",
    "                                                                   np_covariates_Y_test,\n",
    "                                                                   ps_score_list_test,\n",
    "                                                                   False)\n",
    "tensor_treated_train_original = \\\n",
    "                Utils.create_tensors_from_tuple(data_loader_dict_train[\"treated_data\"])\n",
    "tensor_control_train_original = \\\n",
    "                Utils.create_tensors_from_tuple(data_loader_dict_test[\"control_data\"])\n",
    "\n",
    "            # Execute PM GAN\n",
    "ps_t = PS_Treated_Generator(data_loader_dict_train, ps_model)"
   ]
  },
  {
   "cell_type": "code",
   "execution_count": 12,
   "metadata": {},
   "outputs": [
    {
     "name": "stdout",
     "output_type": "stream",
     "text": [
      "-> Matched Control: (4578, 30)\n",
      "-> UnMatched Control: (2645, 30)\n",
      "-> GAN training started\n"
     ]
    },
    {
     "ename": "KeyboardInterrupt",
     "evalue": "",
     "output_type": "error",
     "traceback": [
      "\u001b[0;31m---------------------------------------------------------------------------\u001b[0m",
      "\u001b[0;31mKeyboardInterrupt\u001b[0m                         Traceback (most recent call last)",
      "\u001b[0;32m<ipython-input-12-1339d7af10bf>\u001b[0m in \u001b[0;36m<module>\u001b[0;34m\u001b[0m\n\u001b[0;32m----> 1\u001b[0;31m \u001b[0mbalanced_dataset_dict\u001b[0m \u001b[0;34m=\u001b[0m \u001b[0mps_t\u001b[0m\u001b[0;34m.\u001b[0m\u001b[0msimulate_treated_semi_supervised\u001b[0m\u001b[0;34m(\u001b[0m\u001b[0minput_nodes\u001b[0m\u001b[0;34m,\u001b[0m \u001b[0miter_id\u001b[0m\u001b[0;34m,\u001b[0m \u001b[0mdevice\u001b[0m\u001b[0;34m)\u001b[0m\u001b[0;34m\u001b[0m\u001b[0;34m\u001b[0m\u001b[0m\n\u001b[0m\u001b[1;32m      2\u001b[0m \u001b[0;34m\u001b[0m\u001b[0m\n",
      "\u001b[0;32m~/Desktop/Shantanu_MS/Research/Mattia_Prosperi/PM_GAN/Propensity_Match_using_GAN/Twins/PS_Treated_Generator.py\u001b[0m in \u001b[0;36msimulate_treated_semi_supervised\u001b[0;34m(self, input_nodes, iter_id, device)\u001b[0m\n\u001b[1;32m     18\u001b[0m     \u001b[0;32mdef\u001b[0m \u001b[0msimulate_treated_semi_supervised\u001b[0m\u001b[0;34m(\u001b[0m\u001b[0mself\u001b[0m\u001b[0;34m,\u001b[0m \u001b[0minput_nodes\u001b[0m\u001b[0;34m,\u001b[0m \u001b[0miter_id\u001b[0m\u001b[0;34m,\u001b[0m \u001b[0mdevice\u001b[0m\u001b[0;34m)\u001b[0m\u001b[0;34m:\u001b[0m\u001b[0;34m\u001b[0m\u001b[0;34m\u001b[0m\u001b[0m\n\u001b[1;32m     19\u001b[0m         \u001b[0mtreated_simulated\u001b[0m\u001b[0;34m,\u001b[0m \u001b[0mps_treated_simulated\u001b[0m\u001b[0;34m,\u001b[0m \u001b[0mtuple_matched_control\u001b[0m\u001b[0;34m,\u001b[0m \u001b[0mtuple_unmatched_control\u001b[0m\u001b[0;31m \u001b[0m\u001b[0;31m\\\u001b[0m\u001b[0;34m\u001b[0m\u001b[0;34m\u001b[0m\u001b[0m\n\u001b[0;32m---> 20\u001b[0;31m             \u001b[0;34m=\u001b[0m \u001b[0mself\u001b[0m\u001b[0;34m.\u001b[0m\u001b[0m__execute_GAN\u001b[0m\u001b[0;34m(\u001b[0m\u001b[0mdevice\u001b[0m\u001b[0;34m,\u001b[0m \u001b[0miter_id\u001b[0m\u001b[0;34m)\u001b[0m\u001b[0;34m\u001b[0m\u001b[0;34m\u001b[0m\u001b[0m\n\u001b[0m\u001b[1;32m     21\u001b[0m         \u001b[0mtreated_simulated\u001b[0m \u001b[0;34m=\u001b[0m \u001b[0mtreated_simulated\u001b[0m\u001b[0;34m.\u001b[0m\u001b[0mdetach\u001b[0m\u001b[0;34m(\u001b[0m\u001b[0;34m)\u001b[0m\u001b[0;34m.\u001b[0m\u001b[0mcpu\u001b[0m\u001b[0;34m(\u001b[0m\u001b[0;34m)\u001b[0m\u001b[0;34m\u001b[0m\u001b[0;34m\u001b[0m\u001b[0m\n\u001b[1;32m     22\u001b[0m \u001b[0;34m\u001b[0m\u001b[0m\n",
      "\u001b[0;32m~/Desktop/Shantanu_MS/Research/Mattia_Prosperi/PM_GAN/Propensity_Match_using_GAN/Twins/PS_Treated_Generator.py\u001b[0m in \u001b[0;36m__execute_GAN\u001b[0;34m(self, device, iter_id)\u001b[0m\n\u001b[1;32m    203\u001b[0m                           \u001b[0mConstants\u001b[0m\u001b[0;34m.\u001b[0m\u001b[0mGAN_GENERATOR_OUT_NODES\u001b[0m\u001b[0;34m,\u001b[0m\u001b[0;34m\u001b[0m\u001b[0;34m\u001b[0m\u001b[0m\n\u001b[1;32m    204\u001b[0m                           self.ps_model, device)\n\u001b[0;32m--> 205\u001b[0;31m         \u001b[0mgan\u001b[0m\u001b[0;34m.\u001b[0m\u001b[0mtrain_GAN\u001b[0m\u001b[0;34m(\u001b[0m\u001b[0mGAN_train_parameters\u001b[0m\u001b[0;34m,\u001b[0m \u001b[0mdevice\u001b[0m\u001b[0;34m=\u001b[0m\u001b[0mdevice\u001b[0m\u001b[0;34m)\u001b[0m\u001b[0;34m\u001b[0m\u001b[0;34m\u001b[0m\u001b[0m\n\u001b[0m\u001b[1;32m    206\u001b[0m         \u001b[0mprint\u001b[0m\u001b[0;34m(\u001b[0m\u001b[0;34m\"-> GAN training completed\"\u001b[0m\u001b[0;34m)\u001b[0m\u001b[0;34m\u001b[0m\u001b[0;34m\u001b[0m\u001b[0m\n\u001b[1;32m    207\u001b[0m         treated_generated, ps_score_list_treated = gan.eval_GAN(tuple_unmatched_control[0].shape[0],\n",
      "\u001b[0;32m~/Desktop/Shantanu_MS/Research/Mattia_Prosperi/PM_GAN/Propensity_Match_using_GAN/Twins/GAN_Manager.py\u001b[0m in \u001b[0;36mtrain_GAN\u001b[0;34m(self, train_parameters, device)\u001b[0m\n\u001b[1;32m     71\u001b[0m                 \u001b[0;31m# Train G\u001b[0m\u001b[0;34m\u001b[0m\u001b[0;34m\u001b[0m\u001b[0;34m\u001b[0m\u001b[0m\n\u001b[1;32m     72\u001b[0m                 error_g, prop_loss = self.__train_generator(g_optimizer, fake_data, BETA, ps_score_control,\n\u001b[0;32m---> 73\u001b[0;31m                                                             device)\n\u001b[0m\u001b[1;32m     74\u001b[0m                 \u001b[0mtotal_G_loss\u001b[0m \u001b[0;34m+=\u001b[0m \u001b[0merror_g\u001b[0m\u001b[0;34m\u001b[0m\u001b[0;34m\u001b[0m\u001b[0m\n\u001b[1;32m     75\u001b[0m                 \u001b[0mtotal_prop_loss\u001b[0m \u001b[0;34m+=\u001b[0m \u001b[0mprop_loss\u001b[0m\u001b[0;34m\u001b[0m\u001b[0;34m\u001b[0m\u001b[0m\n",
      "\u001b[0;32m~/Desktop/Shantanu_MS/Research/Mattia_Prosperi/PM_GAN/Propensity_Match_using_GAN/Twins/GAN_Manager.py\u001b[0m in \u001b[0;36m__train_generator\u001b[0;34m(self, optimizer, fake_data, BETA, ps_score_control, device)\u001b[0m\n\u001b[1;32m    169\u001b[0m         \u001b[0merror_g\u001b[0m \u001b[0;34m=\u001b[0m \u001b[0mself\u001b[0m\u001b[0;34m.\u001b[0m\u001b[0mloss\u001b[0m\u001b[0;34m(\u001b[0m\u001b[0mpredicted_D\u001b[0m\u001b[0;34m,\u001b[0m \u001b[0mself\u001b[0m\u001b[0;34m.\u001b[0m\u001b[0m__real_data_target\u001b[0m\u001b[0;34m(\u001b[0m\u001b[0mpredicted_D\u001b[0m\u001b[0;34m.\u001b[0m\u001b[0msize\u001b[0m\u001b[0;34m(\u001b[0m\u001b[0;36m0\u001b[0m\u001b[0;34m)\u001b[0m\u001b[0;34m)\u001b[0m\u001b[0;34m)\u001b[0m\u001b[0;34m\u001b[0m\u001b[0;34m\u001b[0m\u001b[0m\n\u001b[1;32m    170\u001b[0m         prop_loss = self.__cal_propensity_loss(ps_score_control,\n\u001b[0;32m--> 171\u001b[0;31m                                                fake_data, device)\n\u001b[0m\u001b[1;32m    172\u001b[0m         \u001b[0merror\u001b[0m \u001b[0;34m=\u001b[0m \u001b[0merror_g\u001b[0m \u001b[0;34m+\u001b[0m \u001b[0;34m(\u001b[0m\u001b[0mBETA\u001b[0m \u001b[0;34m*\u001b[0m \u001b[0mprop_loss\u001b[0m\u001b[0;34m)\u001b[0m\u001b[0;34m\u001b[0m\u001b[0;34m\u001b[0m\u001b[0m\n\u001b[1;32m    173\u001b[0m         \u001b[0merror\u001b[0m\u001b[0;34m.\u001b[0m\u001b[0mbackward\u001b[0m\u001b[0;34m(\u001b[0m\u001b[0;34m)\u001b[0m\u001b[0;34m\u001b[0m\u001b[0;34m\u001b[0m\u001b[0m\n",
      "\u001b[0;32m~/Desktop/Shantanu_MS/Research/Mattia_Prosperi/PM_GAN/Propensity_Match_using_GAN/Twins/GAN_Manager.py\u001b[0m in \u001b[0;36m__cal_propensity_loss\u001b[0;34m(self, ps_score_control, gen_treated, device)\u001b[0m\n\u001b[1;32m     88\u001b[0m     def __cal_propensity_loss(self, ps_score_control,\n\u001b[1;32m     89\u001b[0m                               gen_treated, device):\n\u001b[0;32m---> 90\u001b[0;31m         \u001b[0mps_score_list_treated\u001b[0m \u001b[0;34m=\u001b[0m \u001b[0mself\u001b[0m\u001b[0;34m.\u001b[0m\u001b[0m__get_propensity_score\u001b[0m\u001b[0;34m(\u001b[0m\u001b[0mgen_treated\u001b[0m\u001b[0;34m,\u001b[0m \u001b[0mdevice\u001b[0m\u001b[0;34m)\u001b[0m\u001b[0;34m\u001b[0m\u001b[0;34m\u001b[0m\u001b[0m\n\u001b[0m\u001b[1;32m     91\u001b[0m \u001b[0;34m\u001b[0m\u001b[0m\n\u001b[1;32m     92\u001b[0m         \u001b[0mps_score_treated\u001b[0m \u001b[0;34m=\u001b[0m \u001b[0mtorch\u001b[0m\u001b[0;34m.\u001b[0m\u001b[0mtensor\u001b[0m\u001b[0;34m(\u001b[0m\u001b[0mps_score_list_treated\u001b[0m\u001b[0;34m)\u001b[0m\u001b[0;34m.\u001b[0m\u001b[0mto\u001b[0m\u001b[0;34m(\u001b[0m\u001b[0mdevice\u001b[0m\u001b[0;34m)\u001b[0m\u001b[0;34m\u001b[0m\u001b[0;34m\u001b[0m\u001b[0m\n",
      "\u001b[0;32m~/Desktop/Shantanu_MS/Research/Mattia_Prosperi/PM_GAN/Propensity_Match_using_GAN/Twins/GAN_Manager.py\u001b[0m in \u001b[0;36m__get_propensity_score\u001b[0;34m(self, gen_treated, device)\u001b[0m\n\u001b[1;32m    104\u001b[0m         }\n\u001b[1;32m    105\u001b[0m         ps_score_list_treated = self.ps_model.eval(ps_eval_parameters_NN, device,\n\u001b[0;32m--> 106\u001b[0;31m                                                    eval_from_GAN=True)\n\u001b[0m\u001b[1;32m    107\u001b[0m         \u001b[0;32mreturn\u001b[0m \u001b[0mps_score_list_treated\u001b[0m\u001b[0;34m\u001b[0m\u001b[0;34m\u001b[0m\u001b[0m\n\u001b[1;32m    108\u001b[0m \u001b[0;34m\u001b[0m\u001b[0m\n",
      "\u001b[0;32m~/Desktop/Shantanu_MS/Research/Mattia_Prosperi/PM_GAN/Propensity_Match_using_GAN/Twins/Propensity_socre_network.py\u001b[0m in \u001b[0;36meval\u001b[0;34m(self, eval_parameters, device, eval_from_GAN)\u001b[0m\n\u001b[1;32m     80\u001b[0m             \u001b[0mtreatment_pred\u001b[0m \u001b[0;34m=\u001b[0m \u001b[0mself\u001b[0m\u001b[0;34m.\u001b[0m\u001b[0mnetwork\u001b[0m\u001b[0;34m(\u001b[0m\u001b[0mcovariates\u001b[0m\u001b[0;34m)\u001b[0m\u001b[0;34m\u001b[0m\u001b[0;34m\u001b[0m\u001b[0m\n\u001b[1;32m     81\u001b[0m             \u001b[0mtreatment_pred\u001b[0m \u001b[0;34m=\u001b[0m \u001b[0mtreatment_pred\u001b[0m\u001b[0;34m.\u001b[0m\u001b[0msqueeze\u001b[0m\u001b[0;34m(\u001b[0m\u001b[0;34m)\u001b[0m\u001b[0;34m\u001b[0m\u001b[0;34m\u001b[0m\u001b[0m\n\u001b[0;32m---> 82\u001b[0;31m             \u001b[0mprop_score_list\u001b[0m\u001b[0;34m.\u001b[0m\u001b[0mappend\u001b[0m\u001b[0;34m(\u001b[0m\u001b[0mtreatment_pred\u001b[0m\u001b[0;34m[\u001b[0m\u001b[0;36m1\u001b[0m\u001b[0;34m]\u001b[0m\u001b[0;34m.\u001b[0m\u001b[0mitem\u001b[0m\u001b[0;34m(\u001b[0m\u001b[0;34m)\u001b[0m\u001b[0;34m)\u001b[0m\u001b[0;34m\u001b[0m\u001b[0;34m\u001b[0m\u001b[0m\n\u001b[0m\u001b[1;32m     83\u001b[0m \u001b[0;34m\u001b[0m\u001b[0m\n\u001b[1;32m     84\u001b[0m         \u001b[0;32mreturn\u001b[0m \u001b[0mprop_score_list\u001b[0m\u001b[0;34m\u001b[0m\u001b[0;34m\u001b[0m\u001b[0m\n",
      "\u001b[0;31mKeyboardInterrupt\u001b[0m: "
     ]
    }
   ],
   "source": [
    "balanced_dataset_dict = ps_t.simulate_treated_semi_supervised(input_nodes, iter_id, device)\n",
    "            "
   ]
  }
 ],
 "metadata": {
  "kernelspec": {
   "display_name": "Python 3",
   "language": "python",
   "name": "python3"
  },
  "language_info": {
   "codemirror_mode": {
    "name": "ipython",
    "version": 3
   },
   "file_extension": ".py",
   "mimetype": "text/x-python",
   "name": "python",
   "nbconvert_exporter": "python",
   "pygments_lexer": "ipython3",
   "version": "3.7.3"
  }
 },
 "nbformat": 4,
 "nbformat_minor": 2
}

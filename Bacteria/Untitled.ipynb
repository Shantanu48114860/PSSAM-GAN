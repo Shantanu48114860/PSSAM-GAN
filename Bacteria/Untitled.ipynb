{
 "cells": [
  {
   "cell_type": "code",
   "execution_count": 24,
   "metadata": {},
   "outputs": [
    {
     "name": "stdout",
     "output_type": "stream",
     "text": [
      "  vancomycin arcc_0 arcc_1 arcc_2 arcc_3 arcc_4 arcc_5 arcc_6 arcc_7 arcc_8  \\\n",
      "0          S      T      T      A      T      T      A      A      T      A   \n",
      "1          S      T      T      A      T      T      A      A      T      A   \n",
      "2          S      T      T      A      T      T      A      A      T      A   \n",
      "3          S      T      T      A      T      T      A      A      T      A   \n",
      "4          S      T      T      A      T      T      A      A      T      A   \n",
      "\n",
      "   ... yqil_506 yqil_507 yqil_508 yqil_509 yqil_510 yqil_511 yqil_512  \\\n",
      "0  ...        T        G        C        A        C        A        A   \n",
      "1  ...        T        G        C        A        C        A        G   \n",
      "2  ...        T        G        C        A        C        A        G   \n",
      "3  ...        T        G        C        G        C        A        A   \n",
      "4  ...        T        G        C        G        C        A        A   \n",
      "\n",
      "  yqil_513 yqil_514 yqil_515  \n",
      "0        C        A        A  \n",
      "1        C        A        A  \n",
      "2        C        A        A  \n",
      "3        C        A        A  \n",
      "4        C        A        A  \n",
      "\n",
      "[5 rows x 3199 columns]\n"
     ]
    }
   ],
   "source": [
    "import pandas as pd\n",
    "#Import the CSV file into Python using read_csv() from pandas\n",
    "dataframe = pd.read_csv(\"Dataset/201.csv\")\n",
    "print(dataframe.head())"
   ]
  },
  {
   "cell_type": "code",
   "execution_count": 25,
   "metadata": {},
   "outputs": [
    {
     "name": "stdout",
     "output_type": "stream",
     "text": [
      "(669, 3199)\n",
      "     vancomycin arcc_0 arcc_1 arcc_2 arcc_3 arcc_4 arcc_5 arcc_6 arcc_7  \\\n",
      "0             0      T      T      A      T      T      A      A      T   \n",
      "1             0      T      T      A      T      T      A      A      T   \n",
      "2             0      T      T      A      T      T      A      A      T   \n",
      "3             0      T      T      A      T      T      A      A      T   \n",
      "4             0      T      T      A      T      T      A      A      T   \n",
      "..          ...    ...    ...    ...    ...    ...    ...    ...    ...   \n",
      "664           0      T      T      A      T      T      G      A      T   \n",
      "665           0      T      T      A      T      T      G      A      T   \n",
      "666           0      T      T      A      T      T      G      A      T   \n",
      "667           0      T      T      A      T      T      G      A      T   \n",
      "668           0      T      T      A      T      T      G      A      T   \n",
      "\n",
      "    arcc_8  ... yqil_506 yqil_507 yqil_508 yqil_509 yqil_510 yqil_511  \\\n",
      "0        A  ...        T        G        C        A        C        A   \n",
      "1        A  ...        T        G        C        A        C        A   \n",
      "2        A  ...        T        G        C        A        C        A   \n",
      "3        A  ...        T        G        C        G        C        A   \n",
      "4        A  ...        T        G        C        G        C        A   \n",
      "..     ...  ...      ...      ...      ...      ...      ...      ...   \n",
      "664      T  ...        T        G        C        A        C        A   \n",
      "665      T  ...        T        G        C        A        C        A   \n",
      "666      T  ...        T        G        C        A        C        A   \n",
      "667      T  ...        T        G        C        A        C        A   \n",
      "668      T  ...        T        G        C        A        C        A   \n",
      "\n",
      "    yqil_512 yqil_513 yqil_514 yqil_515  \n",
      "0          A        C        A        A  \n",
      "1          G        C        A        A  \n",
      "2          G        C        A        A  \n",
      "3          A        C        A        A  \n",
      "4          A        C        A        A  \n",
      "..       ...      ...      ...      ...  \n",
      "664        G        C        A        A  \n",
      "665        G        C        A        A  \n",
      "666        G        C        A        A  \n",
      "667        G        C        A        A  \n",
      "668        G        C        A        A  \n",
      "\n",
      "[669 rows x 3199 columns]\n"
     ]
    }
   ],
   "source": [
    "print(dataframe.shape)\n",
    "\n",
    "methicilin = {'R': 1, 'S': 0}\n",
    "dataframe.vancomycin = [Recommendation[item] for item in dataframe.vancomycin]\n",
    "print(dataframe)\n"
   ]
  },
  {
   "cell_type": "code",
   "execution_count": 26,
   "metadata": {},
   "outputs": [],
   "source": [
    "dataframe.to_csv('vancomycin_num.csv', index=False ,header=False)"
   ]
  }
 ],
 "metadata": {
  "kernelspec": {
   "display_name": "Python 3",
   "language": "python",
   "name": "python3"
  },
  "language_info": {
   "codemirror_mode": {
    "name": "ipython",
    "version": 3
   },
   "file_extension": ".py",
   "mimetype": "text/x-python",
   "name": "python",
   "nbconvert_exporter": "python",
   "pygments_lexer": "ipython3",
   "version": "3.8.3"
  }
 },
 "nbformat": 4,
 "nbformat_minor": 4
}

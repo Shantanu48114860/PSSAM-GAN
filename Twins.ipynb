{
 "cells": [
  {
   "cell_type": "code",
   "execution_count": 5,
   "metadata": {},
   "outputs": [],
   "source": [
    "import numpy as np\n",
    "import torch\n",
    "import torch.nn as nn\n",
    "import torch.optim as optim\n",
    "import torch.nn.functional as F\n",
    "from Utils import Utils\n",
    "from Constants import Constants\n",
    "from Propensity_socre_network import Propensity_socre_network\n",
    "from Utils import Utils\n",
    "from PS_Manager import PS_Manager\n",
    "from PS_Treated_Generator import PS_Treated_Generator\n",
    "\n",
    "from GAN import Generator, Discriminator\n",
    "from sklearn.neighbors import NearestNeighbors\n",
    "\n",
    "from GAN_Manager import GAN_Manager\n",
    "from Utils import Utils\n",
    "\n",
    "from matplotlib import pyplot\n",
    "from torch.autograd.variable import Variable\n",
    "from collections import OrderedDict\n",
    "from scipy.special import expit\n"
   ]
  },
  {
   "cell_type": "code",
   "execution_count": 8,
   "metadata": {},
   "outputs": [
    {
     "name": "stdout",
     "output_type": "stream",
     "text": [
      "[[0. 0.]\n",
      " [0. 1.]\n",
      " [0. 0.]\n",
      " [0. 0.]\n",
      " [0. 1.]]\n"
     ]
    }
   ],
   "source": [
    "ori_data = np.loadtxt(\"Dataset/Twin_data.csv\", delimiter=\",\",skiprows=1)\n",
    "\n",
    "  # Define features\n",
    "x = ori_data[:,:30]\n",
    "no, dim = x.shape\n",
    "    \n",
    "  # Define potential outcomes\n",
    "potential_y = ori_data[:, 30:]\n",
    "  # Die within 1 year = 1, otherwise = 0\n",
    "potential_y = np.array(potential_y < 9999,dtype=float)    \n",
    "print(potential_y[:5,:])\n",
    "\n",
    "  \n",
    "\n"
   ]
  },
  {
   "cell_type": "code",
   "execution_count": 9,
   "metadata": {},
   "outputs": [
    {
     "name": "stdout",
     "output_type": "stream",
     "text": [
      "[[0.52850723]\n",
      " [0.52334743]\n",
      " [0.50391847]\n",
      " ...\n",
      " [0.51152641]\n",
      " [0.50501045]\n",
      " [0.52185088]]\n"
     ]
    }
   ],
   "source": [
    "## Assign treatment\n",
    "coef = np.random.uniform(-0.01, 0.01, size = [dim,1])\n",
    "prob_temp = expit(np.matmul(x, coef) + np.random.normal(0,0.01, size = [no,1]))\n",
    "print(prob_temp)\n"
   ]
  },
  {
   "cell_type": "code",
   "execution_count": 15,
   "metadata": {},
   "outputs": [
    {
     "name": "stdout",
     "output_type": "stream",
     "text": [
      "[1 0 0 1 0 0 0 1 1 1]\n"
     ]
    }
   ],
   "source": [
    "prob_t = prob_temp/(2*np.mean(prob_temp))\n",
    "prob_t[prob_t>1] = 1\n",
    "    \n",
    "t = np.random.binomial(1,prob_t,[no,1])\n",
    "t = t.reshape([no,])\n",
    "\n",
    "print(t[:10])\n"
   ]
  },
  {
   "cell_type": "code",
   "execution_count": 18,
   "metadata": {},
   "outputs": [
    {
     "name": "stdout",
     "output_type": "stream",
     "text": [
      "(11400,)\n",
      "[0. 0. 0. 0. 0. 0. 0. 0. 0. 0.]\n"
     ]
    }
   ],
   "source": [
    "## Define observable outcomes\n",
    "y = np.zeros([no,1])\n",
    "y = np.transpose(t) * potential_y[:,1] + np.transpose(1-t) * potential_y[:,0]    \n",
    "y = np.reshape(np.transpose(y), [no, ])\n",
    "\n",
    "print(y.shape)\n",
    "print(y[:10])"
   ]
  },
  {
   "cell_type": "code",
   "execution_count": 21,
   "metadata": {},
   "outputs": [
    {
     "name": "stdout",
     "output_type": "stream",
     "text": [
      "[[0. 0.]\n",
      " [0. 0.]\n",
      " [1. 1.]\n",
      " [0. 0.]\n",
      " [0. 0.]]\n",
      "(9120, 2)\n"
     ]
    }
   ],
   "source": [
    "  ## Train/test division\n",
    "train_rate = 0.8\n",
    "idx = np.random.permutation(no)\n",
    "train_idx = idx[:int(train_rate * no)]\n",
    "test_idx = idx[int(train_rate * no):]\n",
    "    \n",
    "train_x = x[train_idx,:]\n",
    "train_t = t[train_idx]\n",
    "train_y = y[train_idx]\n",
    "train_potential_y = potential_y[train_idx,:]\n",
    "print(train_potential_y[:5,:])\n",
    "\n",
    "print(train_potential_y.shape)\n",
    "\n",
    "test_x = x[test_idx,:]\n",
    "test_potential_y = potential_y[test_idx,:]\n",
    "        \n",
    "#return train_x, train_t, train_y, train_potential_y, test_x, test_potential_y"
   ]
  },
  {
   "cell_type": "code",
   "execution_count": 23,
   "metadata": {},
   "outputs": [],
   "source": [
    "test_t = t[test_idx]"
   ]
  },
  {
   "cell_type": "code",
   "execution_count": 25,
   "metadata": {},
   "outputs": [
    {
     "name": "stdout",
     "output_type": "stream",
     "text": [
      "(2280,)\n",
      "(2280, 30)\n"
     ]
    }
   ],
   "source": [
    "print(test_t.shape)\n",
    "print(test_x.shape)"
   ]
  },
  {
   "cell_type": "code",
   "execution_count": 26,
   "metadata": {},
   "outputs": [
    {
     "name": "stdout",
     "output_type": "stream",
     "text": [
      "(9120,)\n",
      "(9120, 30)\n"
     ]
    }
   ],
   "source": [
    "print(train_t.shape)\n",
    "print(train_x.shape)"
   ]
  },
  {
   "cell_type": "code",
   "execution_count": 31,
   "metadata": {},
   "outputs": [
    {
     "name": "stdout",
     "output_type": "stream",
     "text": [
      "(4464,)\n",
      "(4656,)\n"
     ]
    }
   ],
   "source": [
    "train_t_id = (train_t == 1)\n",
    "t_1 = train_t[train_t_id]\n",
    "print(t_1.shape)\n",
    "print(train_t[~train_t_id].shape)"
   ]
  },
  {
   "cell_type": "code",
   "execution_count": null,
   "metadata": {},
   "outputs": [],
   "source": []
  }
 ],
 "metadata": {
  "kernelspec": {
   "display_name": "Python 3",
   "language": "python",
   "name": "python3"
  },
  "language_info": {
   "codemirror_mode": {
    "name": "ipython",
    "version": 3
   },
   "file_extension": ".py",
   "mimetype": "text/x-python",
   "name": "python",
   "nbconvert_exporter": "python",
   "pygments_lexer": "ipython3",
   "version": "3.7.3"
  }
 },
 "nbformat": 4,
 "nbformat_minor": 2
}
